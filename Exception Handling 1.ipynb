{
 "cells": [
  {
   "cell_type": "code",
   "execution_count": null,
   "id": "acee953e-11ba-4c33-9f0f-16abdb24d732",
   "metadata": {},
   "outputs": [],
   "source": [
    "#Q1. What is an Exception in Python? Write the difference between Exceptions and Syntax errors."
   ]
  },
  {
   "cell_type": "code",
   "execution_count": null,
   "id": "e9fdb843-3781-4bcd-9106-11bb734e96f7",
   "metadata": {},
   "outputs": [],
   "source": [
    "Exception in Python: An exception is an event that occurs during the execution of a program, leading to the interruption of the normal flow of instructions. It is a runtime error that may be handled by the programmer to prevent the program from crashing.\n",
    "\n",
    "Difference between Exceptions and Syntax Errors:\n",
    "\n",
    "Syntax Errors: These are errors that occur when the syntax of the code is incorrect, preventing the interpreter from parsing the code. These errors are detected by the Python interpreter during the compilation phase.\n",
    "\n",
    "Exceptions: These are errors that occur during the execution of the program when a valid statement cannot be executed properly. Exceptions are runtime errors and are not detected until the program is running."
   ]
  },
  {
   "cell_type": "code",
   "execution_count": null,
   "id": "9481dd35-f43a-48e6-86af-212bd73763f8",
   "metadata": {},
   "outputs": [],
   "source": [
    "#Q2. What happens when an exception is not handled? Explain with an example."
   ]
  },
  {
   "cell_type": "code",
   "execution_count": null,
   "id": "fe117cc3-6bc9-4999-b261-4844960924a8",
   "metadata": {},
   "outputs": [],
   "source": [
    "If an exception is not handled, it will propagate up the call stack until it reaches the top-level of the program. If it still remains unhandled at that point, the program will terminate, and an error message will be displayed.\n",
    "Example:"
   ]
  },
  {
   "cell_type": "code",
   "execution_count": null,
   "id": "bdd44400-ede1-47b3-a3ab-7c1429610a6a",
   "metadata": {},
   "outputs": [],
   "source": [
    "try:\n",
    "    num = int(input(\"Enter a number: \"))\n",
    "    result = 10 / num  # Potential division by zero exception\n",
    "except ValueError:\n",
    "    print(\"Invalid input. Please enter a valid number.\")\n"
   ]
  },
  {
   "cell_type": "code",
   "execution_count": null,
   "id": "d893fdfb-7ce4-41ba-ad52-401420e48de1",
   "metadata": {},
   "outputs": [],
   "source": [
    "In this example, if the user enters \"0\" as input, a ZeroDivisionError will occur, but it's not handled. If unhandled, the program would terminate with an error message."
   ]
  },
  {
   "cell_type": "code",
   "execution_count": null,
   "id": "aaa60f16-1264-4f24-9acf-ef11ce240fab",
   "metadata": {},
   "outputs": [],
   "source": [
    "#Q3. Which Python statements are used to try, catch, and handle exceptions? Explain with an example."
   ]
  },
  {
   "cell_type": "code",
   "execution_count": null,
   "id": "6b7c2b3c-8c95-4c68-8469-dafea4247d9e",
   "metadata": {},
   "outputs": [],
   "source": [
    "The try, except, and finally statements are used to handle exceptions in Python.\n",
    "Example:"
   ]
  },
  {
   "cell_type": "code",
   "execution_count": null,
   "id": "5f2fb589-446a-4a13-bdc8-b62a1fc4aede",
   "metadata": {},
   "outputs": [],
   "source": [
    "try:\n",
    "    num = int(input(\"Enter a number: \"))\n",
    "    result = 10 / num  # Potential division by zero exception\n",
    "except ValueError:\n",
    "    print(\"Invalid input. Please enter a valid number.\")\n",
    "except ZeroDivisionError:\n",
    "    print(\"Cannot divide by zero.\")\n",
    "else:\n",
    "    print(\"Result:\", result)\n",
    "finally:\n",
    "    print(\"This block always executes.\")\n"
   ]
  },
  {
   "cell_type": "code",
   "execution_count": null,
   "id": "3ee6d5ed-fff7-4efb-912f-62ebf99ad11c",
   "metadata": {},
   "outputs": [],
   "source": [
    "In this example, the try block attempts to perform a division, and the except blocks handle specific exceptions. The else block is executed if no exceptions occur, and the finally block always executes, regardless of whether an exception occurred or not."
   ]
  },
  {
   "cell_type": "code",
   "execution_count": null,
   "id": "b224513b-7c0b-4dc3-889f-3a7305122067",
   "metadata": {},
   "outputs": [],
   "source": [
    "#Q4. Explain with an example: try, except, and else. # try, and else. # finally.\n"
   ]
  },
  {
   "cell_type": "code",
   "execution_count": null,
   "id": "15c87c47-089e-45a5-9e10-7d2a9a080f92",
   "metadata": {},
   "outputs": [],
   "source": [
    "try:\n",
    "    num = int(input(\"Enter a number: \"))\n",
    "    result = 10 / num  # Potential division by zero exception\n",
    "except ValueError:\n",
    "    print(\"Invalid input. Please enter a valid number.\")\n",
    "except ZeroDivisionError:\n",
    "    print(\"Cannot divide by zero.\")\n",
    "else:\n",
    "    print(\"Result:\", result)\n",
    "finally:\n",
    "    print(\"This block always executes.\")\n"
   ]
  },
  {
   "cell_type": "code",
   "execution_count": null,
   "id": "33ff5f25-abcc-4df3-ab98-479ec64dedaa",
   "metadata": {},
   "outputs": [],
   "source": [
    "The try block attempts to perform a division, the except blocks handle specific exceptions, the else block is executed if no exceptions occur, and the finally block always executes."
   ]
  },
  {
   "cell_type": "code",
   "execution_count": null,
   "id": "6e9e4aa4-bb5a-49a8-ad62-4afa7c2987b9",
   "metadata": {},
   "outputs": [],
   "source": [
    "#Q5. What are Custom Exceptions in Python? Why do we need Custom Exceptions? Explain with an example."
   ]
  },
  {
   "cell_type": "code",
   "execution_count": null,
   "id": "665b8925-a7a6-4570-986b-2966128a1212",
   "metadata": {},
   "outputs": [],
   "source": [
    "Custom Exceptions in Python are user-defined exceptions created by the programmer to represent specific error conditions relevant to their application. They allow for more precise error handling and make the code more readable.\n",
    "Example:"
   ]
  },
  {
   "cell_type": "code",
   "execution_count": null,
   "id": "c3874740-ad81-46ba-a953-f9e29a7b2d99",
   "metadata": {},
   "outputs": [],
   "source": [
    "class NegativeValueError(Exception):\n",
    "    pass\n",
    "\n",
    "def calculate_square_root(value):\n",
    "    if value < 0:\n",
    "        raise NegativeValueError(\"Cannot calculate square root of a negative value.\")\n",
    "    return value ** 0.5\n",
    "\n",
    "try:\n",
    "    result = calculate_square_root(-4)\n",
    "except NegativeValueError as e:\n",
    "    print(f\"Error: {e}\")\n"
   ]
  },
  {
   "cell_type": "code",
   "execution_count": null,
   "id": "541a54e2-969c-4117-94ac-a3201de66981",
   "metadata": {},
   "outputs": [],
   "source": [
    "In this example, a custom exception NegativeValueError is raised when attempting to calculate the square root of a negative value."
   ]
  },
  {
   "cell_type": "code",
   "execution_count": null,
   "id": "f5e81cdc-0e37-48b1-828b-32a246398a07",
   "metadata": {},
   "outputs": [],
   "source": [
    "#Q6. Create a custom exception class. Use this class to handle an exception"
   ]
  },
  {
   "cell_type": "code",
   "execution_count": null,
   "id": "0cf837be-63ed-47b0-a552-a60f310cc134",
   "metadata": {},
   "outputs": [],
   "source": [
    "class CustomException(Exception):\n",
    "    pass\n",
    "\n",
    "try:\n",
    "    raise CustomException(\"This is a custom exception.\")\n",
    "except CustomException as e:\n",
    "    print(f\"Caught an exception: {e}\")\n"
   ]
  }
 ],
 "metadata": {
  "kernelspec": {
   "display_name": "Python 3 (ipykernel)",
   "language": "python",
   "name": "python3"
  },
  "language_info": {
   "codemirror_mode": {
    "name": "ipython",
    "version": 3
   },
   "file_extension": ".py",
   "mimetype": "text/x-python",
   "name": "python",
   "nbconvert_exporter": "python",
   "pygments_lexer": "ipython3",
   "version": "3.10.8"
  }
 },
 "nbformat": 4,
 "nbformat_minor": 5
}
